{
  "nbformat": 4,
  "nbformat_minor": 0,
  "metadata": {
    "colab": {
      "name": "credit-card-fraud-detection.ipynb",
      "provenance": [],
      "collapsed_sections": []
    },
    "kernelspec": {
      "name": "python3",
      "display_name": "Python 3"
    }
  },
  "cells": [
    {
      "cell_type": "code",
      "metadata": {
        "id": "kCcgQpAXO38o"
      },
      "source": [
        "import pandas as pd\r\n",
        "from sklearn.model_selection import train_test_split\r\n",
        "from sklearn.linear_model import LogisticRegression\r\n",
        "from sklearn.discriminant_analysis import LinearDiscriminantAnalysis\r\n",
        "from sklearn.neighbors import KNeighborsClassifier\r\n",
        "from sklearn.metrics import confusion_matrix\r\n",
        "from sklearn.metrics import accuracy_score, f1_score, precision_score, recall_score, precision_recall_curve, auc"
      ],
      "execution_count": null,
      "outputs": []
    },
    {
      "cell_type": "code",
      "metadata": {
        "id": "GJ2sgJQQQjjw",
        "colab": {
          "base_uri": "https://localhost:8080/",
          "height": 439
        },
        "outputId": "90a639c4-79c3-45a9-9466-bea2dfec881d"
      },
      "source": [
        "# read the dataset and preprocessing\r\n",
        "df = pd.read_csv('creditcard.csv')\r\n",
        "df = df.dropna()"
      ],
      "execution_count": null,
      "outputs": [
        {
          "output_type": "execute_result",
          "data": {
            "text/html": [
              "<div>\n",
              "<style scoped>\n",
              "    .dataframe tbody tr th:only-of-type {\n",
              "        vertical-align: middle;\n",
              "    }\n",
              "\n",
              "    .dataframe tbody tr th {\n",
              "        vertical-align: top;\n",
              "    }\n",
              "\n",
              "    .dataframe thead th {\n",
              "        text-align: right;\n",
              "    }\n",
              "</style>\n",
              "<table border=\"1\" class=\"dataframe\">\n",
              "  <thead>\n",
              "    <tr style=\"text-align: right;\">\n",
              "      <th></th>\n",
              "      <th>Time</th>\n",
              "      <th>V1</th>\n",
              "      <th>V2</th>\n",
              "      <th>V3</th>\n",
              "      <th>V4</th>\n",
              "      <th>V5</th>\n",
              "      <th>V6</th>\n",
              "      <th>V7</th>\n",
              "      <th>V8</th>\n",
              "      <th>V9</th>\n",
              "      <th>V10</th>\n",
              "      <th>V11</th>\n",
              "      <th>V12</th>\n",
              "      <th>V13</th>\n",
              "      <th>V14</th>\n",
              "      <th>V15</th>\n",
              "      <th>V16</th>\n",
              "      <th>V17</th>\n",
              "      <th>V18</th>\n",
              "      <th>V19</th>\n",
              "      <th>V20</th>\n",
              "      <th>V21</th>\n",
              "      <th>V22</th>\n",
              "      <th>V23</th>\n",
              "      <th>V24</th>\n",
              "      <th>V25</th>\n",
              "      <th>V26</th>\n",
              "      <th>V27</th>\n",
              "      <th>V28</th>\n",
              "      <th>Amount</th>\n",
              "      <th>Class</th>\n",
              "    </tr>\n",
              "  </thead>\n",
              "  <tbody>\n",
              "    <tr>\n",
              "      <th>0</th>\n",
              "      <td>0</td>\n",
              "      <td>-1.359807</td>\n",
              "      <td>-0.072781</td>\n",
              "      <td>2.536347</td>\n",
              "      <td>1.378155</td>\n",
              "      <td>-0.338321</td>\n",
              "      <td>0.462388</td>\n",
              "      <td>0.239599</td>\n",
              "      <td>0.098698</td>\n",
              "      <td>0.363787</td>\n",
              "      <td>0.090794</td>\n",
              "      <td>-0.551600</td>\n",
              "      <td>-0.617801</td>\n",
              "      <td>-0.991390</td>\n",
              "      <td>-0.311169</td>\n",
              "      <td>1.468177</td>\n",
              "      <td>-0.470401</td>\n",
              "      <td>0.207971</td>\n",
              "      <td>0.025791</td>\n",
              "      <td>0.403993</td>\n",
              "      <td>0.251412</td>\n",
              "      <td>-0.018307</td>\n",
              "      <td>0.277838</td>\n",
              "      <td>-0.110474</td>\n",
              "      <td>0.066928</td>\n",
              "      <td>0.128539</td>\n",
              "      <td>-0.189115</td>\n",
              "      <td>0.133558</td>\n",
              "      <td>-0.021053</td>\n",
              "      <td>149.62</td>\n",
              "      <td>0.0</td>\n",
              "    </tr>\n",
              "    <tr>\n",
              "      <th>1</th>\n",
              "      <td>0</td>\n",
              "      <td>1.191857</td>\n",
              "      <td>0.266151</td>\n",
              "      <td>0.166480</td>\n",
              "      <td>0.448154</td>\n",
              "      <td>0.060018</td>\n",
              "      <td>-0.082361</td>\n",
              "      <td>-0.078803</td>\n",
              "      <td>0.085102</td>\n",
              "      <td>-0.255425</td>\n",
              "      <td>-0.166974</td>\n",
              "      <td>1.612727</td>\n",
              "      <td>1.065235</td>\n",
              "      <td>0.489095</td>\n",
              "      <td>-0.143772</td>\n",
              "      <td>0.635558</td>\n",
              "      <td>0.463917</td>\n",
              "      <td>-0.114805</td>\n",
              "      <td>-0.183361</td>\n",
              "      <td>-0.145783</td>\n",
              "      <td>-0.069083</td>\n",
              "      <td>-0.225775</td>\n",
              "      <td>-0.638672</td>\n",
              "      <td>0.101288</td>\n",
              "      <td>-0.339846</td>\n",
              "      <td>0.167170</td>\n",
              "      <td>0.125895</td>\n",
              "      <td>-0.008983</td>\n",
              "      <td>0.014724</td>\n",
              "      <td>2.69</td>\n",
              "      <td>0.0</td>\n",
              "    </tr>\n",
              "    <tr>\n",
              "      <th>2</th>\n",
              "      <td>1</td>\n",
              "      <td>-1.358354</td>\n",
              "      <td>-1.340163</td>\n",
              "      <td>1.773209</td>\n",
              "      <td>0.379780</td>\n",
              "      <td>-0.503198</td>\n",
              "      <td>1.800499</td>\n",
              "      <td>0.791461</td>\n",
              "      <td>0.247676</td>\n",
              "      <td>-1.514654</td>\n",
              "      <td>0.207643</td>\n",
              "      <td>0.624501</td>\n",
              "      <td>0.066084</td>\n",
              "      <td>0.717293</td>\n",
              "      <td>-0.165946</td>\n",
              "      <td>2.345865</td>\n",
              "      <td>-2.890083</td>\n",
              "      <td>1.109969</td>\n",
              "      <td>-0.121359</td>\n",
              "      <td>-2.261857</td>\n",
              "      <td>0.524980</td>\n",
              "      <td>0.247998</td>\n",
              "      <td>0.771679</td>\n",
              "      <td>0.909412</td>\n",
              "      <td>-0.689281</td>\n",
              "      <td>-0.327642</td>\n",
              "      <td>-0.139097</td>\n",
              "      <td>-0.055353</td>\n",
              "      <td>-0.059752</td>\n",
              "      <td>378.66</td>\n",
              "      <td>0.0</td>\n",
              "    </tr>\n",
              "    <tr>\n",
              "      <th>3</th>\n",
              "      <td>1</td>\n",
              "      <td>-0.966272</td>\n",
              "      <td>-0.185226</td>\n",
              "      <td>1.792993</td>\n",
              "      <td>-0.863291</td>\n",
              "      <td>-0.010309</td>\n",
              "      <td>1.247203</td>\n",
              "      <td>0.237609</td>\n",
              "      <td>0.377436</td>\n",
              "      <td>-1.387024</td>\n",
              "      <td>-0.054952</td>\n",
              "      <td>-0.226487</td>\n",
              "      <td>0.178228</td>\n",
              "      <td>0.507757</td>\n",
              "      <td>-0.287924</td>\n",
              "      <td>-0.631418</td>\n",
              "      <td>-1.059647</td>\n",
              "      <td>-0.684093</td>\n",
              "      <td>1.965775</td>\n",
              "      <td>-1.232622</td>\n",
              "      <td>-0.208038</td>\n",
              "      <td>-0.108300</td>\n",
              "      <td>0.005274</td>\n",
              "      <td>-0.190321</td>\n",
              "      <td>-1.175575</td>\n",
              "      <td>0.647376</td>\n",
              "      <td>-0.221929</td>\n",
              "      <td>0.062723</td>\n",
              "      <td>0.061458</td>\n",
              "      <td>123.50</td>\n",
              "      <td>0.0</td>\n",
              "    </tr>\n",
              "    <tr>\n",
              "      <th>4</th>\n",
              "      <td>2</td>\n",
              "      <td>-1.158233</td>\n",
              "      <td>0.877737</td>\n",
              "      <td>1.548718</td>\n",
              "      <td>0.403034</td>\n",
              "      <td>-0.407193</td>\n",
              "      <td>0.095921</td>\n",
              "      <td>0.592941</td>\n",
              "      <td>-0.270533</td>\n",
              "      <td>0.817739</td>\n",
              "      <td>0.753074</td>\n",
              "      <td>-0.822843</td>\n",
              "      <td>0.538196</td>\n",
              "      <td>1.345852</td>\n",
              "      <td>-1.119670</td>\n",
              "      <td>0.175121</td>\n",
              "      <td>-0.451449</td>\n",
              "      <td>-0.237033</td>\n",
              "      <td>-0.038195</td>\n",
              "      <td>0.803487</td>\n",
              "      <td>0.408542</td>\n",
              "      <td>-0.009431</td>\n",
              "      <td>0.798278</td>\n",
              "      <td>-0.137458</td>\n",
              "      <td>0.141267</td>\n",
              "      <td>-0.206010</td>\n",
              "      <td>0.502292</td>\n",
              "      <td>0.219422</td>\n",
              "      <td>0.215153</td>\n",
              "      <td>69.99</td>\n",
              "      <td>0.0</td>\n",
              "    </tr>\n",
              "    <tr>\n",
              "      <th>...</th>\n",
              "      <td>...</td>\n",
              "      <td>...</td>\n",
              "      <td>...</td>\n",
              "      <td>...</td>\n",
              "      <td>...</td>\n",
              "      <td>...</td>\n",
              "      <td>...</td>\n",
              "      <td>...</td>\n",
              "      <td>...</td>\n",
              "      <td>...</td>\n",
              "      <td>...</td>\n",
              "      <td>...</td>\n",
              "      <td>...</td>\n",
              "      <td>...</td>\n",
              "      <td>...</td>\n",
              "      <td>...</td>\n",
              "      <td>...</td>\n",
              "      <td>...</td>\n",
              "      <td>...</td>\n",
              "      <td>...</td>\n",
              "      <td>...</td>\n",
              "      <td>...</td>\n",
              "      <td>...</td>\n",
              "      <td>...</td>\n",
              "      <td>...</td>\n",
              "      <td>...</td>\n",
              "      <td>...</td>\n",
              "      <td>...</td>\n",
              "      <td>...</td>\n",
              "      <td>...</td>\n",
              "      <td>...</td>\n",
              "    </tr>\n",
              "    <tr>\n",
              "      <th>11953</th>\n",
              "      <td>20625</td>\n",
              "      <td>-0.653155</td>\n",
              "      <td>0.372141</td>\n",
              "      <td>2.209254</td>\n",
              "      <td>-2.151937</td>\n",
              "      <td>0.451189</td>\n",
              "      <td>0.822337</td>\n",
              "      <td>0.267881</td>\n",
              "      <td>0.083443</td>\n",
              "      <td>2.295254</td>\n",
              "      <td>-1.932296</td>\n",
              "      <td>1.353567</td>\n",
              "      <td>-1.497177</td>\n",
              "      <td>2.110731</td>\n",
              "      <td>0.967465</td>\n",
              "      <td>-0.456648</td>\n",
              "      <td>-0.178489</td>\n",
              "      <td>-0.170200</td>\n",
              "      <td>0.883714</td>\n",
              "      <td>0.207465</td>\n",
              "      <td>-0.015770</td>\n",
              "      <td>-0.149850</td>\n",
              "      <td>0.151803</td>\n",
              "      <td>-0.505597</td>\n",
              "      <td>-1.181476</td>\n",
              "      <td>0.535504</td>\n",
              "      <td>-0.759489</td>\n",
              "      <td>-0.068433</td>\n",
              "      <td>-0.176549</td>\n",
              "      <td>11.85</td>\n",
              "      <td>0.0</td>\n",
              "    </tr>\n",
              "    <tr>\n",
              "      <th>11954</th>\n",
              "      <td>20631</td>\n",
              "      <td>1.504204</td>\n",
              "      <td>-0.411728</td>\n",
              "      <td>0.200090</td>\n",
              "      <td>-0.778753</td>\n",
              "      <td>-0.442232</td>\n",
              "      <td>-0.119677</td>\n",
              "      <td>-0.782660</td>\n",
              "      <td>-0.165178</td>\n",
              "      <td>0.691819</td>\n",
              "      <td>0.247322</td>\n",
              "      <td>-0.530014</td>\n",
              "      <td>-3.515087</td>\n",
              "      <td>2.173069</td>\n",
              "      <td>1.105206</td>\n",
              "      <td>0.231477</td>\n",
              "      <td>1.641043</td>\n",
              "      <td>0.401864</td>\n",
              "      <td>-0.601471</td>\n",
              "      <td>0.799229</td>\n",
              "      <td>0.079309</td>\n",
              "      <td>-0.136231</td>\n",
              "      <td>-0.217274</td>\n",
              "      <td>-0.143260</td>\n",
              "      <td>-1.057332</td>\n",
              "      <td>0.529188</td>\n",
              "      <td>-0.235062</td>\n",
              "      <td>-0.012089</td>\n",
              "      <td>0.000905</td>\n",
              "      <td>9.00</td>\n",
              "      <td>0.0</td>\n",
              "    </tr>\n",
              "    <tr>\n",
              "      <th>11955</th>\n",
              "      <td>20636</td>\n",
              "      <td>1.134994</td>\n",
              "      <td>0.096340</td>\n",
              "      <td>0.277921</td>\n",
              "      <td>0.319692</td>\n",
              "      <td>0.742800</td>\n",
              "      <td>1.611803</td>\n",
              "      <td>-0.458649</td>\n",
              "      <td>0.390012</td>\n",
              "      <td>1.424541</td>\n",
              "      <td>-0.656249</td>\n",
              "      <td>0.969943</td>\n",
              "      <td>-1.977200</td>\n",
              "      <td>2.131005</td>\n",
              "      <td>1.678891</td>\n",
              "      <td>1.480576</td>\n",
              "      <td>-0.682469</td>\n",
              "      <td>1.195737</td>\n",
              "      <td>-1.985939</td>\n",
              "      <td>-1.517055</td>\n",
              "      <td>-0.234249</td>\n",
              "      <td>-0.395605</td>\n",
              "      <td>-0.743542</td>\n",
              "      <td>0.222256</td>\n",
              "      <td>-1.859104</td>\n",
              "      <td>-0.109777</td>\n",
              "      <td>0.279049</td>\n",
              "      <td>0.012398</td>\n",
              "      <td>-0.009090</td>\n",
              "      <td>0.99</td>\n",
              "      <td>0.0</td>\n",
              "    </tr>\n",
              "    <tr>\n",
              "      <th>11956</th>\n",
              "      <td>20638</td>\n",
              "      <td>-6.305012</td>\n",
              "      <td>3.944886</td>\n",
              "      <td>-4.707362</td>\n",
              "      <td>1.539602</td>\n",
              "      <td>-3.934785</td>\n",
              "      <td>-1.730565</td>\n",
              "      <td>-2.104936</td>\n",
              "      <td>3.843447</td>\n",
              "      <td>0.863458</td>\n",
              "      <td>0.255574</td>\n",
              "      <td>-0.578456</td>\n",
              "      <td>-0.933662</td>\n",
              "      <td>1.902331</td>\n",
              "      <td>4.590772</td>\n",
              "      <td>-0.163232</td>\n",
              "      <td>0.562325</td>\n",
              "      <td>2.304264</td>\n",
              "      <td>0.308167</td>\n",
              "      <td>-0.304962</td>\n",
              "      <td>-0.077060</td>\n",
              "      <td>0.073140</td>\n",
              "      <td>-0.039935</td>\n",
              "      <td>-0.108896</td>\n",
              "      <td>0.691434</td>\n",
              "      <td>-0.261979</td>\n",
              "      <td>-0.447540</td>\n",
              "      <td>0.212900</td>\n",
              "      <td>-0.031021</td>\n",
              "      <td>89.99</td>\n",
              "      <td>0.0</td>\n",
              "    </tr>\n",
              "    <tr>\n",
              "      <th>11957</th>\n",
              "      <td>20638</td>\n",
              "      <td>1.161960</td>\n",
              "      <td>-0.398297</td>\n",
              "      <td>1.123732</td>\n",
              "      <td>-0.474237</td>\n",
              "      <td>-1.226667</td>\n",
              "      <td>-0.519325</td>\n",
              "      <td>-0.804179</td>\n",
              "      <td>0.070134</td>\n",
              "      <td>3.262926</td>\n",
              "      <td>-1.464389</td>\n",
              "      <td>0.814818</td>\n",
              "      <td>-2.218547</td>\n",
              "      <td>0.309302</td>\n",
              "      <td>1.577927</td>\n",
              "      <td>0.897422</td>\n",
              "      <td>-0.800820</td>\n",
              "      <td>1.053984</td>\n",
              "      <td>0.057109</td>\n",
              "      <td>-0.123652</td>\n",
              "      <td>-0.267050</td>\n",
              "      <td>-0.121191</td>\n",
              "      <td>0.097255</td>\n",
              "      <td>0.050903</td>\n",
              "      <td>0.330479</td>\n",
              "      <td>0.315692</td>\n",
              "      <td>-0.712765</td>\n",
              "      <td>0.073836</td>\n",
              "      <td>0.028055</td>\n",
              "      <td>11.85</td>\n",
              "      <td>0.0</td>\n",
              "    </tr>\n",
              "  </tbody>\n",
              "</table>\n",
              "<p>11958 rows × 31 columns</p>\n",
              "</div>"
            ],
            "text/plain": [
              "        Time        V1        V2        V3  ...       V27       V28  Amount  Class\n",
              "0          0 -1.359807 -0.072781  2.536347  ...  0.133558 -0.021053  149.62    0.0\n",
              "1          0  1.191857  0.266151  0.166480  ... -0.008983  0.014724    2.69    0.0\n",
              "2          1 -1.358354 -1.340163  1.773209  ... -0.055353 -0.059752  378.66    0.0\n",
              "3          1 -0.966272 -0.185226  1.792993  ...  0.062723  0.061458  123.50    0.0\n",
              "4          2 -1.158233  0.877737  1.548718  ...  0.219422  0.215153   69.99    0.0\n",
              "...      ...       ...       ...       ...  ...       ...       ...     ...    ...\n",
              "11953  20625 -0.653155  0.372141  2.209254  ... -0.068433 -0.176549   11.85    0.0\n",
              "11954  20631  1.504204 -0.411728  0.200090  ... -0.012089  0.000905    9.00    0.0\n",
              "11955  20636  1.134994  0.096340  0.277921  ...  0.012398 -0.009090    0.99    0.0\n",
              "11956  20638 -6.305012  3.944886 -4.707362  ...  0.212900 -0.031021   89.99    0.0\n",
              "11957  20638  1.161960 -0.398297  1.123732  ...  0.073836  0.028055   11.85    0.0\n",
              "\n",
              "[11958 rows x 31 columns]"
            ]
          },
          "metadata": {
            "tags": []
          },
          "execution_count": 3
        }
      ]
    },
    {
      "cell_type": "code",
      "metadata": {
        "id": "Re3IuY1ETi0p"
      },
      "source": [
        "# splitting the dataset into data train and test\r\n",
        "data = df.values\r\n",
        "x, y = data[:, :-1], data[:, -1]\r\n",
        "x_train, x_test, y_train, y_test = train_test_split(x, y, test_size = 0.33, random_state = 1)"
      ],
      "execution_count": null,
      "outputs": []
    },
    {
      "cell_type": "markdown",
      "metadata": {
        "id": "UX0wZZxXfhAk"
      },
      "source": [
        "Logistic Regression Classification"
      ]
    },
    {
      "cell_type": "code",
      "metadata": {
        "id": "QwVTlnD0fps4",
        "colab": {
          "base_uri": "https://localhost:8080/"
        },
        "outputId": "ef3ee5e9-92c5-4c6c-c4f0-c1c83ada0e58"
      },
      "source": [
        "classifier = LogisticRegression(solver='lbfgs', max_iter=1000)\r\n",
        "# training\r\n",
        "classifier.fit(x_train, y_train)\r\n",
        "# testing\r\n",
        "result = classifier.predict_proba(x_test)"
      ],
      "execution_count": null,
      "outputs": [
        {
          "output_type": "execute_result",
          "data": {
            "text/plain": [
              "array([[9.96846827e-01, 3.15317340e-03],\n",
              "       [9.99840709e-01, 1.59291019e-04],\n",
              "       [9.99766925e-01, 2.33074807e-04],\n",
              "       ...,\n",
              "       [9.99896677e-01, 1.03322976e-04],\n",
              "       [9.99971550e-01, 2.84503976e-05],\n",
              "       [9.99769462e-01, 2.30537619e-04]])"
            ]
          },
          "metadata": {
            "tags": []
          },
          "execution_count": 29
        }
      ]
    },
    {
      "cell_type": "code",
      "metadata": {
        "colab": {
          "base_uri": "https://localhost:8080/"
        },
        "id": "e_WfQ6ZEmL7r",
        "outputId": "3801e57a-5720-4b4d-b895-a5a5e8e0cbfd"
      },
      "source": [
        "positive_result = result[:, 1]\r\n",
        "# precision recall curve\r\n",
        "precision, recall, _ = precision_recall_curve(y_test, positive_result)\r\n",
        "# PR-AUC for imbalanced case\r\n",
        "auc_score = auc(recall, precision)\r\n",
        "auc_score"
      ],
      "execution_count": null,
      "outputs": [
        {
          "output_type": "execute_result",
          "data": {
            "text/plain": [
              "0.6524710028836926"
            ]
          },
          "metadata": {
            "tags": []
          },
          "execution_count": 32
        }
      ]
    },
    {
      "cell_type": "markdown",
      "metadata": {
        "id": "pXrqkh8M_nf_"
      },
      "source": [
        "Linear Discriminant Analysis"
      ]
    },
    {
      "cell_type": "code",
      "metadata": {
        "id": "BBsaNM_M_s63"
      },
      "source": [
        "classifier = LinearDiscriminantAnalysis()\r\n",
        "# training \r\n",
        "classifier.fit(x_train, y_train)\r\n",
        "# testing \r\n",
        "result = classifier.predict_proba(x_test)"
      ],
      "execution_count": null,
      "outputs": []
    },
    {
      "cell_type": "code",
      "metadata": {
        "colab": {
          "base_uri": "https://localhost:8080/"
        },
        "id": "XAP-P1W5AzhO",
        "outputId": "4f4f4c18-438a-4719-eea5-9fb1e08dba4c"
      },
      "source": [
        "positive_result = result[:, 1]\r\n",
        "# precision recall curve\r\n",
        "precision, recall, _ = precision_recall_curve(y_test, positive_result)\r\n",
        "# PR-AUC for imbalanced case\r\n",
        "auc_score = auc(recall, precision)\r\n",
        "auc_score"
      ],
      "execution_count": null,
      "outputs": [
        {
          "output_type": "execute_result",
          "data": {
            "text/plain": [
              "0.7546001280586084"
            ]
          },
          "metadata": {
            "tags": []
          },
          "execution_count": 37
        }
      ]
    },
    {
      "cell_type": "markdown",
      "metadata": {
        "id": "puGXdYLrB0rb"
      },
      "source": [
        "K-nearest neighbor"
      ]
    },
    {
      "cell_type": "code",
      "metadata": {
        "id": "wdGEHee6B_Y-"
      },
      "source": [
        "classifier = KNeighborsClassifier(n_neighbors=3)\r\n",
        "# training \r\n",
        "classifier.fit(x_train, y_train)\r\n",
        "# testing \r\n",
        "result = classifier.predict_proba(x_test)"
      ],
      "execution_count": null,
      "outputs": []
    },
    {
      "cell_type": "code",
      "metadata": {
        "colab": {
          "base_uri": "https://localhost:8080/"
        },
        "id": "5RkD0olYCnzc",
        "outputId": "19a7a4a8-7596-41e3-a2ff-6fd04dda0197"
      },
      "source": [
        "positive_result = result[:, 1]\r\n",
        "# precision recall curve\r\n",
        "precision, recall, _ = precision_recall_curve(y_test, positive_result)\r\n",
        "# PR-AUC for imbalanced case\r\n",
        "auc_score = auc(recall, precision)\r\n",
        "auc_score"
      ],
      "execution_count": null,
      "outputs": [
        {
          "output_type": "execute_result",
          "data": {
            "text/plain": [
              "0.28889529856234053"
            ]
          },
          "metadata": {
            "tags": []
          },
          "execution_count": 42
        }
      ]
    }
  ]
}